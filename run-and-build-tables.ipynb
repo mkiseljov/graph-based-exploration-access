{
 "cells": [
  {
   "cell_type": "markdown",
   "id": "3efe4bea",
   "metadata": {},
   "source": [
    "# Run experiments"
   ]
  },
  {
   "cell_type": "code",
   "execution_count": null,
   "id": "fde595aa",
   "metadata": {},
   "outputs": [],
   "source": [
    "decision_makers = [\"dot\", \"eps\", \"vae\", \"ssl-rws-count\", \"ssl-rnd\"] # dropout\n",
    "decision_makers = [\"ssl-rnd\", \"ssl-group\"]"
   ]
  },
  {
   "cell_type": "code",
   "execution_count": null,
   "id": "41e6418a",
   "metadata": {},
   "outputs": [],
   "source": [
    "import pickle"
   ]
  },
  {
   "cell_type": "code",
   "execution_count": null,
   "id": "fe7f88ef",
   "metadata": {},
   "outputs": [],
   "source": [
    "for dm in decision_makers:\n",
    "    print(f\"\\tDECISION MODULE {dm}.\")\n",
    "\n",
    "    name = f\"ml-{dm}\"\n",
    "\n",
    "    ! python train_ope_offline.py -d moovielens --use_memory --memory_dim 26 -m {dm} --prefix {name} --n_epoch 3 --bs 200 --topk 10 --rws_weight 0.2 --pretrain_predictor\n",
    "\n",
    "    print(f\"\\n\\n\\nEND PROCESSING {dm}, {pm}, {bm}.\")\n",
    "    with open(f\"results/{name}.pkl\", \"rb\") as f:\n",
    "        x = (pickle.load(f))\n",
    "    print(f\"LAST SCORE: {x['replay_ctrs'][-1]}\")"
   ]
  },
  {
   "cell_type": "code",
   "execution_count": null,
   "id": "e8935fcc",
   "metadata": {},
   "outputs": [],
   "source": [
    "for dm in decision_makers:\n",
    "    print(f\"\\tDECISION MODULE {dm}.\")\n",
    "\n",
    "    name = f\"lf-{dm}\"\n",
    "\n",
    "    ! python train_ope_offline.py -d lastfm --use_memory --memory_dim 42 -m {dm} --prefix {name} --n_epoch 3 --bs 200 --topk 10 --rws_weight 0.2 --pretrain_predictor\n",
    "\n",
    "    print(f\"\\n\\n\\nEND PROCESSING {dm}, {pm}, {bm}.\")\n",
    "    with open(f\"results/{name}.pkl\", \"rb\") as f:\n",
    "        x = (pickle.load(f))\n",
    "    print(f\"LAST SCORE: {x['replay_ctrs'][-1]}\")"
   ]
  },
  {
   "cell_type": "markdown",
   "id": "dbba2123",
   "metadata": {},
   "source": [
    "# Build tables"
   ]
  },
  {
   "cell_type": "code",
   "execution_count": null,
   "id": "399c5265",
   "metadata": {},
   "outputs": [],
   "source": [
    "import pandas as pd\n",
    "\n",
    "metrics_ml = {}\n",
    "for pm in predictor_modes:\n",
    "    name = f\"results/ml-{dm}\"\n",
    "    with open(f\"{name}.pkl\", \"rb\") as f:\n",
    "        x = (pickle.load(f))\n",
    "    metrics_ml[dm] = {\n",
    "        \"hitrate\": round(x[\"replay_ctrs\"][-1], 4),\n",
    "        \"hitrate_log\": x[\"replay_ctrs\"]\n",
    "    }"
   ]
  },
  {
   "cell_type": "code",
   "execution_count": null,
   "id": "8d6421af",
   "metadata": {},
   "outputs": [],
   "source": [
    "pd.DataFrame(metrics_ml).T.sort_values(\"hitrate\")"
   ]
  },
  {
   "cell_type": "code",
   "execution_count": null,
   "id": "ad6450ad",
   "metadata": {},
   "outputs": [],
   "source": [
    "metrics_lf = {}\n",
    "for pm in predictor_modes:\n",
    "    name = f\"results/lf-{dm}\"\n",
    "    with open(f\"{name}.pkl\", \"rb\") as f:\n",
    "        x = (pickle.load(f))\n",
    "    metrics_lf[dm] = {\n",
    "        \"hitrate\": round(x[\"replay_ctrs\"][-1], 4),\n",
    "        \"hitrate_log\": x[\"replay_ctrs\"]\n",
    "    }"
   ]
  },
  {
   "cell_type": "code",
   "execution_count": null,
   "id": "03601608",
   "metadata": {},
   "outputs": [],
   "source": [
    "pd.DataFrame(metrics_lf).T.sort_values(\"hitrate\")"
   ]
  },
  {
   "cell_type": "markdown",
   "id": "b85ef1aa",
   "metadata": {},
   "source": [
    "# Plot graphs"
   ]
  },
  {
   "cell_type": "code",
   "execution_count": null,
   "id": "759fa69b",
   "metadata": {},
   "outputs": [],
   "source": [
    "name_map = {\n",
    "    'dot': \"Dot\",\n",
    "    'eps': r\"$\\varepsilon$-greedy\",\n",
    "    'vae': \"VAE\",\n",
    "    'ssl-rws-count': \"SSL PPR\",\n",
    "    'ssl-rnd': \"SSL RND\",\n",
    "}"
   ]
  },
  {
   "cell_type": "code",
   "execution_count": null,
   "id": "27cd65f5",
   "metadata": {},
   "outputs": [],
   "source": [
    "cap = min([len(metrics_lf[dm][\"hitrate_log\"]) for dm in decision_makers])\n",
    "\n",
    "for dm in decision_makers:\n",
    "    plt.plot(metrics_lf[dm][\"hitrate_log\"][:cap], label=name_map.get(dm))\n",
    "plt.legend(fontsize=16)\n",
    "plt.show()"
   ]
  },
  {
   "cell_type": "code",
   "execution_count": null,
   "id": "d6984c4f",
   "metadata": {},
   "outputs": [],
   "source": []
  }
 ],
 "metadata": {
  "kernelspec": {
   "display_name": "Python 3 (ipykernel)",
   "language": "python",
   "name": "python3"
  },
  "language_info": {
   "codemirror_mode": {
    "name": "ipython",
    "version": 3
   },
   "file_extension": ".py",
   "mimetype": "text/x-python",
   "name": "python",
   "nbconvert_exporter": "python",
   "pygments_lexer": "ipython3",
   "version": "3.7.12"
  }
 },
 "nbformat": 4,
 "nbformat_minor": 5
}
